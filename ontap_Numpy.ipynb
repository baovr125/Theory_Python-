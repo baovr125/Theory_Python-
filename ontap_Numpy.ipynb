{
 "cells": [
  {
   "cell_type": "code",
   "execution_count": 1,
   "id": "1532f05e-0b72-40e4-91f1-c90d09e71151",
   "metadata": {},
   "outputs": [
    {
     "name": "stdout",
     "output_type": "stream",
     "text": [
      "4 6\n"
     ]
    }
   ],
   "source": [
    "#Câu 10\n",
    "# Declare a Rectangle class inherit form Point class in 2D space. A rectangle is defined with its coordinates, width, and height. Implement the following functions:\n",
    "# - Define a function has prototype def __init__(self, p, w, h), know p is a point 2D, weight, and height to initial value for the rectangle\n",
    "# - Define a function named Corner return point object\n",
    "class Point:\n",
    "    def __init__(self, x, y):\n",
    "        self.x = x\n",
    "        self.y = y\n",
    "\n",
    "class Rectangle(Point):\n",
    "    def __init__(self, p, w, h):\n",
    "        self.p = p\n",
    "        self.w = w\n",
    "        self.h = h\n",
    "\n",
    "    def Corner(self):\n",
    "        return Point(self.p.x, self.p.y)\n",
    "    \n",
    "p = Point(4,6)\n",
    "rect = Rectangle(p,2,2)\n",
    "c = rect.Corner()\n",
    "print(c.x,c.y)"
   ]
  },
  {
   "cell_type": "code",
   "execution_count": 2,
   "id": "1446ac99-ab5a-418b-b78e-af8ad4ebeaac",
   "metadata": {},
   "outputs": [
    {
     "name": "stdout",
     "output_type": "stream",
     "text": [
      "Distance Origin 3.605551275463989\n",
      "Distance 2.8284271247461903\n",
      "Translate 5, 6\n"
     ]
    }
   ],
   "source": [
    "#câu 7\n",
    "# Declaring a class named Point in 2D space, and two coordinate fields x, y, then defining three methods:\n",
    "\n",
    "# DistanceOrigin method to calculate the distance of the point to origin 0,0\n",
    "# Distance method to calculate the distance between two points\n",
    "# Translate method to move the point to new coordinates in 2D space\\\n",
    "\n",
    "import math\n",
    "\n",
    "class Point:\n",
    "    def __init__(self, x, y):\n",
    "        self.x = x\n",
    "        self.y = y\n",
    "\n",
    "    def DistanceOrigin(self):\n",
    "        return math.sqrt(self.x**2 + self.y**2)\n",
    "\n",
    "    def Distance(self, other):\n",
    "        return math.sqrt((self.x - other.x)**2 + (self.y - other.y)**2)\n",
    "\n",
    "    def Translate(self, dx, dy):\n",
    "        self.x += dx\n",
    "        self.y += dy\n",
    "\n",
    "p = Point(2,3)\n",
    "q = Point(4,5)\n",
    "o = p.DistanceOrigin()\n",
    "print(\"Distance Origin {0}\".format(o) )\n",
    "d = p.Distance(q)\n",
    "print(\"Distance {0}\".format(d))\n",
    "p.Translate(3,3)\n",
    "print(\"Translate {0}, {1}\".format(p.x, p.y))"
   ]
  },
  {
   "cell_type": "code",
   "execution_count": 4,
   "id": "019f2e04-e6aa-4121-ac5b-56971bef3a29",
   "metadata": {},
   "outputs": [
    {
     "name": "stdout",
     "output_type": "stream",
     "text": [
      "1 * 1 =  1 | 1 * 2 =  2 | 1 * 3 =  3 | 1 * 4 =  4 | 1 * 5 =  5 | 1 * 6 =  6 | 1 * 7 =  7 | 1 * 8 =  8 | 1 * 9 =  9 | \n",
      "2 * 1 =  2 | 2 * 2 =  4 | 2 * 3 =  6 | 2 * 4 =  8 | 2 * 5 = 10 | 2 * 6 = 12 | 2 * 7 = 14 | 2 * 8 = 16 | 2 * 9 = 18 | \n",
      "3 * 1 =  3 | 3 * 2 =  6 | 3 * 3 =  9 | 3 * 4 = 12 | 3 * 5 = 15 | 3 * 6 = 18 | 3 * 7 = 21 | 3 * 8 = 24 | 3 * 9 = 27 | \n",
      "4 * 1 =  4 | 4 * 2 =  8 | 4 * 3 = 12 | 4 * 4 = 16 | 4 * 5 = 20 | 4 * 6 = 24 | 4 * 7 = 28 | 4 * 8 = 32 | 4 * 9 = 36 | \n",
      "5 * 1 =  5 | 5 * 2 = 10 | 5 * 3 = 15 | 5 * 4 = 20 | 5 * 5 = 25 | 5 * 6 = 30 | 5 * 7 = 35 | 5 * 8 = 40 | 5 * 9 = 45 | \n",
      "6 * 1 =  6 | 6 * 2 = 12 | 6 * 3 = 18 | 6 * 4 = 24 | 6 * 5 = 30 | 6 * 6 = 36 | 6 * 7 = 42 | 6 * 8 = 48 | 6 * 9 = 54 | \n",
      "7 * 1 =  7 | 7 * 2 = 14 | 7 * 3 = 21 | 7 * 4 = 28 | 7 * 5 = 35 | 7 * 6 = 42 | 7 * 7 = 49 | 7 * 8 = 56 | 7 * 9 = 63 | \n",
      "8 * 1 =  8 | 8 * 2 = 16 | 8 * 3 = 24 | 8 * 4 = 32 | 8 * 5 = 40 | 8 * 6 = 48 | 8 * 7 = 56 | 8 * 8 = 64 | 8 * 9 = 72 | \n",
      "9 * 1 =  9 | 9 * 2 = 18 | 9 * 3 = 27 | 9 * 4 = 36 | 9 * 5 = 45 | 9 * 6 = 54 | 9 * 7 = 63 | 9 * 8 = 72 | 9 * 9 = 81 | \n"
     ]
    }
   ],
   "source": [
    "#câu 2\n",
    "# Implement MultiplicationTable function promt value n, we generate n the multiplication tables.\n",
    "# n = 1\n",
    "# 1 * 1 =  1 | 1 * 2 =  2 | 1 * 3 =  3 | 1 * 4 =  4 | 1 * 5 =  5 | 1 * 6 =  6 | 1 * 7 =  7 | 1 * 8 =  8 | 1 * 9 =  9 |\n",
    "# 2 * 1 =  2 | 2 * 2 =  4 | 2 * 3 =  6 | 2 * 4 =  8 | 2 * 5 = 10 | 2 * 6 = 12 | 2 * 7 = 14 | 2 * 8 = 16 | 2 * 9 = 18 |\n",
    "def MultiplicationTable(n):\n",
    "    for i in range(1, n+1):\n",
    "        for j in range(1, 10):\n",
    "            print(f'{i} * {j} = {i*j:2d}', end=' | ')\n",
    "        print()\n",
    "MultiplicationTable(9)"
   ]
  },
  {
   "cell_type": "code",
   "execution_count": 5,
   "id": "2778f4fa-1525-40fd-9287-0f67c740ea11",
   "metadata": {},
   "outputs": [
    {
     "name": "stdout",
     "output_type": "stream",
     "text": [
      "0:\t0\t1\t2\t\n",
      "1:\t0\t1\t2\t\n"
     ]
    }
   ],
   "source": [
    "#câu 1\n",
    "# Implement PrintIndexMatrix function size nxm to print a matrix includes index of rows and index of coloumn as format\n",
    "# - Space bettween elements is a TAB\n",
    "# Example:\n",
    "# Input: n = 2, m = 3\n",
    "# Output:\n",
    "# 0:  0 1 2\n",
    "# 1:  0 1 2\n",
    "def PrintIndexMatrix(n,m):\n",
    "    for i in range(n):\n",
    "        ok=f\"{i}:\\t\"\n",
    "        for i in range(m):\n",
    "            ok+=f\"{i}\\t\"\n",
    "        print(ok)\n",
    "    \n",
    "PrintIndexMatrix(2,3)"
   ]
  },
  {
   "cell_type": "code",
   "execution_count": 6,
   "id": "8348a724-6b03-465f-bcff-e2782e18462b",
   "metadata": {},
   "outputs": [
    {
     "name": "stdout",
     "output_type": "stream",
     "text": [
      "2 3\n"
     ]
    }
   ],
   "source": [
    "#câu 6\n",
    "# Declaring a class named Point, and two coordinate fields x, y, then defining function has prototype: __init__(self,x,y) is used to initial those coordinates\n",
    "class Point:\n",
    "    def __init__(self, x, y):\n",
    "        self.x = x\n",
    "        self.y = y\n",
    "        \n",
    "p = Point(2,3)\n",
    "print(p.x, p.y)"
   ]
  },
  {
   "cell_type": "code",
   "execution_count": 7,
   "id": "2d2cd58e-58fa-4f7f-ac4e-c255aaba0afc",
   "metadata": {},
   "outputs": [
    {
     "name": "stdout",
     "output_type": "stream",
     "text": [
      "(2,3)\n"
     ]
    }
   ],
   "source": [
    "#câu 8\n",
    "# Declaring a class named Point in 2D space, then write override the built-in function __str__(self) -> str to return string as the following format for displaying point:\n",
    "# Output\n",
    "# (2,3)\n",
    "class Point:\n",
    "    def __init__(self, x, y):\n",
    "        self.x = x\n",
    "        self.y = y\n",
    "\n",
    "    def __str__(self):\n",
    "        return f'({self.x},{self.y})'\n",
    "p = Point(2,3)\n",
    "print(p)"
   ]
  },
  {
   "cell_type": "code",
   "execution_count": 8,
   "id": "e2bb1f48-5a9d-4262-91cb-b26eaa2d617b",
   "metadata": {},
   "outputs": [
    {
     "name": "stdout",
     "output_type": "stream",
     "text": [
      "True\n"
     ]
    }
   ],
   "source": [
    "#câu 9\n",
    "# Write a definition for a class named Circle with attributes center and radius, inherited from Point class\n",
    "# where the center is a Point object in 2D space and the radius is a number\n",
    "\n",
    "# Write a function named PointInCircle that takes a Circle and a Point and returns True if the\n",
    "# point lies in or on the boundary of the circle.\n",
    "import math\n",
    "\n",
    "class Point:\n",
    "    def __init__(self, x, y):\n",
    "        self.x = x\n",
    "        self.y = y\n",
    "\n",
    "class Circle:\n",
    "    def __init__(self, center, radius):\n",
    "        self.center = center\n",
    "        self.radius = radius\n",
    "\n",
    "def PointInCircle(circle, point):\n",
    "    distance = math.sqrt((circle.center.x - point.x)**2 + (circle.center.y - point.y)**2)\n",
    "    return distance <= circle.radius\n",
    "\n",
    "center = Point(3,3)\n",
    "c = Circle(center, 2)\n",
    "p = Point(3,2)\n",
    "print(PointInCircle(c, p))\n"
   ]
  },
  {
   "cell_type": "code",
   "execution_count": 10,
   "id": "33ef6515-5ad7-4142-a99a-7a40ba39e934",
   "metadata": {},
   "outputs": [
    {
     "name": "stdout",
     "output_type": "stream",
     "text": [
      "X U U U U U \n",
      "D X U U U U \n",
      "D D X U U U \n",
      "D D D X U U \n",
      "D D D D X U \n",
      "D D D D D X \n"
     ]
    }
   ],
   "source": [
    "#câu 3# Given Matrix's size, implement MatrixXUD function to display a tile on the screen where the main diagonal is represented by X, the lower part by D and the upper part by U.\n",
    "\n",
    "# X U U \n",
    "# D X U \n",
    "# D D X\n",
    "def MatrixXUD(n):\n",
    "    for i in range(n):\n",
    "        for j in range(n):\n",
    "            if i==j:\n",
    "                print('X', end=\" \")\n",
    "            elif i <j:\n",
    "                print('U', end=' ')\n",
    "            else:\n",
    "                print('D', end=' ')\n",
    "        print()\n",
    "\n",
    "MatrixXUD(6)"
   ]
  },
  {
   "cell_type": "code",
   "execution_count": 11,
   "id": "42af74e3-88fb-4aac-a050-f182233a9c1c",
   "metadata": {},
   "outputs": [
    {
     "name": "stdout",
     "output_type": "stream",
     "text": [
      "( 0,  0) ( 0,  1) ( 0,  2) \n",
      "( 1,  0) ( 1,  1) ( 1,  2) \n",
      "( 2,  0) ( 2,  1) ( 2,  2) \n"
     ]
    }
   ],
   "source": [
    "#câu 4\n",
    "# MatrixQ04 Implement MatrixIndexs funtion to display pairs include row index, column column f. Each element in pair have width is 2.\\\n",
    "def MatrixIndexs(m, n):\n",
    "    for i in range(m):\n",
    "        for j in range(n):\n",
    "            print(f'({i:2d}, {j:2d})', end=' ')\n",
    "        print()\n",
    "\n",
    "MatrixIndexs(3, 3)\n"
   ]
  },
  {
   "cell_type": "code",
   "execution_count": 12,
   "id": "f510b14b-26ea-4811-a464-068073e4da7f",
   "metadata": {},
   "outputs": [
    {
     "name": "stdout",
     "output_type": "stream",
     "text": [
      "X X X X \n",
      "    X   \n",
      "  X     \n",
      "X X X X \n"
     ]
    }
   ],
   "source": [
    "#câu 5\n",
    "# Implement a MatrixZ function to display Z figure, known value n is size of square\n",
    "\n",
    "# X X X X \n",
    "#       X\n",
    "#    X \n",
    "# X X X X\n",
    "\n",
    "def MatrixZ(n):\n",
    "    for i in range(n):\n",
    "        for j in range(n):\n",
    "            if i == 0 or i == n-1 or j == n-i-1:\n",
    "                print('X', end=' ')\n",
    "            else:\n",
    "                print(' ', end=' ')\n",
    "        print()\n",
    "\n",
    "MatrixZ(4)\n"
   ]
  },
  {
   "cell_type": "code",
   "execution_count": 1,
   "id": "c739cb88-111b-4fbe-9225-e0852316d691",
   "metadata": {},
   "outputs": [
    {
     "name": "stdout",
     "output_type": "stream",
     "text": [
      "<class 'numpy.ndarray'>\n",
      "Hệ số tương quan: \n",
      " [[1.         0.96995403]\n",
      " [0.96995403 1.        ]]\n"
     ]
    }
   ],
   "source": [
    "import numpy as np\n",
    "#corrcoef: hệ số tương quan\n",
    "#thời gian dành cho học bài\n",
    "a_giohoc = np.array([4 ,7,1,2,8,0,3,8,6])\n",
    "#Điểm thi nhận được\n",
    "b_diem = np.array([7,9,3,4,9,0,5,10,8])\n",
    "co = np.corrcoef(a_giohoc,b_diem)\n",
    "print(type(co))\n",
    "print('Hệ số tương quan: \\n',co)"
   ]
  },
  {
   "cell_type": "code",
   "execution_count": null,
   "id": "ee4b2993",
   "metadata": {},
   "outputs": [],
   "source": []
  }
 ],
 "metadata": {
  "kernelspec": {
   "display_name": "Python 3 (ipykernel)",
   "language": "python",
   "name": "python3"
  },
  "language_info": {
   "codemirror_mode": {
    "name": "ipython",
    "version": 3
   },
   "file_extension": ".py",
   "mimetype": "text/x-python",
   "name": "python",
   "nbconvert_exporter": "python",
   "pygments_lexer": "ipython3",
   "version": "3.11.4"
  }
 },
 "nbformat": 4,
 "nbformat_minor": 5
}
